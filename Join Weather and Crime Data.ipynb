{
 "cells": [
  {
   "cell_type": "markdown",
   "metadata": {},
   "source": [
    "# Feature Engineering\n",
    "One approach s to determine the level of variation across Chicago in terms of temperature for a single day. If the variation is not huge, and if it appears to not be correlated with crime, then we can simply take global temperature indicators for each day and assign them to the crime records. "
   ]
  },
  {
   "cell_type": "markdown",
   "metadata": {},
   "source": [
    "Out of 356 days per year, we have 13 stations with roughly 250 weather points for the year. Let's see if that means we don't have weather points for the weekends and holidays. This would be a major blocker for this project, because in reality, most of the crime in Chicago happens on extremely hot weekends. After some analysis, we realized this was not a limitation in our project."
   ]
  },
  {
   "cell_type": "markdown",
   "metadata": {},
   "source": [
    "Due to the complexity in the join, at this preliminary stage we're OK with just keeping the average temperature. If we run into accuracy problems with our model later, we can circle back and re-think how we're computing the temperate. Let's just settle with the average over those 13 stations, and use that for each crime. This means that rather than using the GeoPandas Data Frames and joining the 2 sets, we can just append temperature data to the crimes data. This is good news, because the pandas joined needed a new package installation that gave us HUGE issues."
   ]
  },
  {
   "cell_type": "markdown",
   "metadata": {},
   "source": [
    "We should NOT write over the old date. It contains information about the time of day that the crime was committed, which we will want to keep for other modeling purposes. We'll just add a new column for reformatted dates so we can join it with the weather averages. This function will take a few minutes to run."
   ]
  },
  {
   "cell_type": "markdown",
   "metadata": {},
   "source": [
    "# ETL as a single process\n",
    "Eventually, it's very helpful to have a single place for your ETL strategy code. This lets you easily change it as new data comes in or new ideas that might enhance your model are discovered. Then, after your end result is built up, you can work backwards from it and change your modeling strategy based on its actual behavior in the real world."
   ]
  },
  {
   "cell_type": "code",
   "execution_count": 34,
   "metadata": {},
   "outputs": [],
   "source": [
    "import pandas as pd\n",
    "from datetime import date\n",
    "from dateutil.rrule import rrule, DAILY\n",
    "\n",
    "def reformat_crime_date(date_string):\n",
    "\n",
    "    items = date_string.split(\"/\")\n",
    "    year = items[-1]\n",
    "    month = items[0]\n",
    "    day = items[1]    \n",
    "    \n",
    "    new_date = \"{}-{}-{}\".format(year, month, day)\n",
    "        \n",
    "    return new_date\n",
    "\n",
    "def get_mapper(crime_days):\n",
    "\n",
    "    d = {}\n",
    "\n",
    "    for each in crime_days:\n",
    "        old_date = each.split()[0]\n",
    "        if old_date not in d:\n",
    "            new_date = reformat_crime_date(old_date[:])\n",
    "            d[old_date] = new_date\n",
    "\n",
    "    return d\n",
    "\n",
    "def get_average_by_day(weather_df):\n",
    "\n",
    "    days_in_2018 = get_days_from_range([2018, 1, 1], [2018, 9, 30])\n",
    "    \n",
    "    rt = {}\n",
    "    \n",
    "    for d in days_in_2018:\n",
    "\n",
    "        # now, for each day, grab every TMAX\n",
    "        rows = weather_df.loc[ weather_df[\"DATE\"] == d]\n",
    "        rt[d] = rows[\"TMAX\"].mean() \n",
    "    return rt\n",
    "\n",
    "\n",
    "def get_mapping_dict():\n",
    "\n",
    "    rt = {}\n",
    "\n",
    "    a = date(2018, 1, 1)\n",
    "    b = date(2018, 9, 30)\n",
    "\n",
    "    day_of_week = {0: \"Monday\", 1:\"Tuesday\", 2:\"Wednesday\",3:\"Thursday\",4:\"Friday\",5:\"Saturday\",6:\"Sunday\"}\n",
    "\n",
    "    for dt in rrule(DAILY, dtstart=a, until=b):\n",
    "        day_of_year = dt.strftime(\"%Y-%m-%d\")\n",
    "        n = dt.weekday()\n",
    "        day = day_of_week[n]\n",
    "        rt[day_of_year] = day\n",
    "        \n",
    "    return rt\n",
    "\n",
    "def add_day_of_week(df):\n",
    "\n",
    "    for idx, row in df.iterrows():\n",
    "        day_of_year = row[\"DATE\"]\n",
    "        day_of_week = m[day_of_year]\n",
    "        df.loc[idx, \"Day of Week\"] = day_of_week\n",
    "        \n",
    "    return df\n",
    "\n",
    "\n",
    "def get_days_from_range(day_1, day_2):\n",
    "\n",
    "    rt = []\n",
    "    \n",
    "    a = date(day_1[0], day_1[1], day_1[2])\n",
    "    b = date(day_2[0], day_2[1], day_2[2])\n",
    "\n",
    "    for dt in rrule(DAILY, dtstart=a, until=b):\n",
    "        day_of_year = dt.strftime(\"%Y-%m-%d\")\n",
    "        rt.append(day_of_year)\n",
    "    return rt\n"
   ]
  },
  {
   "cell_type": "code",
   "execution_count": 22,
   "metadata": {},
   "outputs": [],
   "source": [
    "def get_updated_data(weather_file, crime_file):\n",
    "    \n",
    "    # read into memory\n",
    "    weather_df = pd.read_csv(weather_file)\n",
    "    crime_df = pd.read_csv(crime_file, index_col = \"ID\")\n",
    "    \n",
    "    # add new columns\n",
    "    weather_df[\"Day Of Week\"] = [\" \" for i in range(weather_df.shape[0])]    \n",
    "    crime_df[\"Reformatted Date\"] = [\" \" for i in range(crime_df.shape[0])]\n",
    "\n",
    "    # get day of week for weather\n",
    "    weather_df = add_day_of_week(weather_df)\n",
    "    \n",
    "    # compute averages by day\n",
    "    \n",
    "    return weather_df, crime_df\n"
   ]
  },
  {
   "cell_type": "code",
   "execution_count": null,
   "metadata": {},
   "outputs": [],
   "source": [
    "def modify_crime_dates(df):\n",
    "    mapper = get_mapper(crime_df[\"Date\"].unique().tolist()[:])\n",
    "\n",
    "    for idx, row in crime_df.iterrows():\n",
    "\n",
    "        new_date = mapper[row[\"Date\"].split()[0]]\n",
    "\n",
    "        crime_df.loc[idx, \"Reformatted Date\"] = new_date"
   ]
  },
  {
   "cell_type": "code",
   "execution_count": 29,
   "metadata": {},
   "outputs": [],
   "source": [
    "def main(weather_file, crime_file):\n",
    "    '''\n",
    "    The primary function for execution. This does the following:\n",
    "        (1) Reads weather and crime data into memory\n",
    "        (2) Adds a Day of the week to the weather data set\n",
    "        (3) Builds a mapper to reformat the crime dates\n",
    "        (4) \n",
    "\n",
    "    '''\n",
    "    weather_df, crime_df = get_updated_data(weather_file, crime_file)\n",
    "\n",
    "#     crime_df = modify_crime_dates(crime_df)\n",
    "    \n",
    "    crime_df = pd.read_csv(\"../Data/crimes_reformatted.csv\")\n",
    "\n",
    "    \n",
    "main(\"../Data/cleaned_weather_2018.csv\", \"../Data/crimes_2018_reduced.csv\")"
   ]
  },
  {
   "cell_type": "code",
   "execution_count": 27,
   "metadata": {},
   "outputs": [],
   "source": [
    "# crime_df.to_csv(\"../Data/crimes_reformatted.csv\")"
   ]
  },
  {
   "cell_type": "code",
   "execution_count": 41,
   "metadata": {},
   "outputs": [],
   "source": [
    "# def add_avg_temp_to_crime(weather_df, crime_df):\n",
    "\n",
    "averages = get_average_by_day(weather_df)\n",
    "\n",
    "crime_df[\"AVG TEMP\"] = [0.0 for i in range(crime_df.shape[0])]\n",
    "\n",
    "for idx, row in crime_df.iterrows():\n",
    "    day = row[\"Reformatted Date\"]\n",
    "    temp = averages[day]\n",
    "    crime_df.loc[idx, \"AVG TEMP\"] = temp\n",
    "\n",
    "    \n",
    "    \n",
    "    \n",
    "# add_avg_temp_to_crime(weather_df, crime_df)"
   ]
  },
  {
   "cell_type": "code",
   "execution_count": 42,
   "metadata": {},
   "outputs": [],
   "source": [
    "crime_df.to_csv(\"../Data/crime_with_temp.csv\")"
   ]
  }
 ],
 "metadata": {
  "kernelspec": {
   "display_name": "conda_python3",
   "language": "python",
   "name": "conda_python3"
  },
  "language_info": {
   "codemirror_mode": {
    "name": "ipython",
    "version": 3
   },
   "file_extension": ".py",
   "mimetype": "text/x-python",
   "name": "python",
   "nbconvert_exporter": "python",
   "pygments_lexer": "ipython3",
   "version": "3.6.5"
  }
 },
 "nbformat": 4,
 "nbformat_minor": 2
}
