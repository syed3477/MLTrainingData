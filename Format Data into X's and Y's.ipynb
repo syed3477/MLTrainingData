{
 "cells": [
  {
   "cell_type": "markdown",
   "metadata": {},
   "source": [
    "# Formating our Data in X's and Y's\n",
    "Before starting our modeling process, we need to format our data to read in the records in an X and Y format, where each X is a row, and each Y is a target variable."
   ]
  },
  {
   "cell_type": "code",
   "execution_count": 1,
   "metadata": {},
   "outputs": [],
   "source": [
    "import pandas as pd"
   ]
  },
  {
   "cell_type": "code",
   "execution_count": 3,
   "metadata": {},
   "outputs": [],
   "source": [
    "data = pd.read_csv(\"../Chicago-ETL-Processes/Data/crime_with_temp.csv\")"
   ]
  },
  {
   "cell_type": "code",
   "execution_count": 4,
   "metadata": {},
   "outputs": [
    {
     "data": {
      "text/html": [
       "<div>\n",
       "<style scoped>\n",
       "    .dataframe tbody tr th:only-of-type {\n",
       "        vertical-align: middle;\n",
       "    }\n",
       "\n",
       "    .dataframe tbody tr th {\n",
       "        vertical-align: top;\n",
       "    }\n",
       "\n",
       "    .dataframe thead th {\n",
       "        text-align: right;\n",
       "    }\n",
       "</style>\n",
       "<table border=\"1\" class=\"dataframe\">\n",
       "  <thead>\n",
       "    <tr style=\"text-align: right;\">\n",
       "      <th></th>\n",
       "      <th>ID</th>\n",
       "      <th>Case Number</th>\n",
       "      <th>Date</th>\n",
       "      <th>Block</th>\n",
       "      <th>IUCR</th>\n",
       "      <th>Primary Type</th>\n",
       "      <th>Description</th>\n",
       "      <th>Location Description</th>\n",
       "      <th>Arrest</th>\n",
       "      <th>Domestic</th>\n",
       "      <th>...</th>\n",
       "      <th>FBI Code</th>\n",
       "      <th>X Coordinate</th>\n",
       "      <th>Y Coordinate</th>\n",
       "      <th>Year</th>\n",
       "      <th>Updated On</th>\n",
       "      <th>Latitude</th>\n",
       "      <th>Longitude</th>\n",
       "      <th>Location</th>\n",
       "      <th>Reformatted Date</th>\n",
       "      <th>AVG TEMP</th>\n",
       "    </tr>\n",
       "  </thead>\n",
       "  <tbody>\n",
       "    <tr>\n",
       "      <th>0</th>\n",
       "      <td>24170</td>\n",
       "      <td>JB429040</td>\n",
       "      <td>09/09/2018 10:30:00 PM</td>\n",
       "      <td>019XX E 74TH ST</td>\n",
       "      <td>0110</td>\n",
       "      <td>HOMICIDE</td>\n",
       "      <td>FIRST DEGREE MURDER</td>\n",
       "      <td>STREET</td>\n",
       "      <td>False</td>\n",
       "      <td>False</td>\n",
       "      <td>...</td>\n",
       "      <td>01A</td>\n",
       "      <td>1190271.0</td>\n",
       "      <td>1856285.0</td>\n",
       "      <td>2018</td>\n",
       "      <td>09/16/2018 04:05:04 PM</td>\n",
       "      <td>41.760675</td>\n",
       "      <td>-87.578207</td>\n",
       "      <td>(41.760674759, -87.578206773)</td>\n",
       "      <td>2018-09-09</td>\n",
       "      <td>69.111111</td>\n",
       "    </tr>\n",
       "    <tr>\n",
       "      <th>1</th>\n",
       "      <td>11445354</td>\n",
       "      <td>JB434245</td>\n",
       "      <td>09/09/2018 10:43:00 AM</td>\n",
       "      <td>034XX N ALBANY AVE</td>\n",
       "      <td>0486</td>\n",
       "      <td>BATTERY</td>\n",
       "      <td>DOMESTIC BATTERY SIMPLE</td>\n",
       "      <td>RESIDENCE</td>\n",
       "      <td>False</td>\n",
       "      <td>True</td>\n",
       "      <td>...</td>\n",
       "      <td>08B</td>\n",
       "      <td>1155112.0</td>\n",
       "      <td>1922612.0</td>\n",
       "      <td>2018</td>\n",
       "      <td>09/16/2018 04:05:04 PM</td>\n",
       "      <td>41.943458</td>\n",
       "      <td>-87.705289</td>\n",
       "      <td>(41.943458302, -87.705288503)</td>\n",
       "      <td>2018-09-09</td>\n",
       "      <td>69.111111</td>\n",
       "    </tr>\n",
       "    <tr>\n",
       "      <th>2</th>\n",
       "      <td>11445290</td>\n",
       "      <td>JB434151</td>\n",
       "      <td>09/09/2018 01:00:00 PM</td>\n",
       "      <td>018XX S KILDARE AVE</td>\n",
       "      <td>1130</td>\n",
       "      <td>DECEPTIVE PRACTICE</td>\n",
       "      <td>FRAUD OR CONFIDENCE GAME</td>\n",
       "      <td>RESIDENCE</td>\n",
       "      <td>False</td>\n",
       "      <td>False</td>\n",
       "      <td>...</td>\n",
       "      <td>11</td>\n",
       "      <td>1147918.0</td>\n",
       "      <td>1890726.0</td>\n",
       "      <td>2018</td>\n",
       "      <td>09/16/2018 04:05:04 PM</td>\n",
       "      <td>41.856101</td>\n",
       "      <td>-87.732551</td>\n",
       "      <td>(41.856101365, -87.73255109)</td>\n",
       "      <td>2018-09-09</td>\n",
       "      <td>69.111111</td>\n",
       "    </tr>\n",
       "    <tr>\n",
       "      <th>3</th>\n",
       "      <td>11445236</td>\n",
       "      <td>JB434294</td>\n",
       "      <td>09/09/2018 03:25:00 PM</td>\n",
       "      <td>025XX N ELSTON AVE</td>\n",
       "      <td>0560</td>\n",
       "      <td>ASSAULT</td>\n",
       "      <td>SIMPLE</td>\n",
       "      <td>SMALL RETAIL STORE</td>\n",
       "      <td>False</td>\n",
       "      <td>False</td>\n",
       "      <td>...</td>\n",
       "      <td>08A</td>\n",
       "      <td>1161467.0</td>\n",
       "      <td>1917112.0</td>\n",
       "      <td>2018</td>\n",
       "      <td>09/16/2018 04:05:04 PM</td>\n",
       "      <td>41.928236</td>\n",
       "      <td>-87.682084</td>\n",
       "      <td>(41.928235818, -87.682084152)</td>\n",
       "      <td>2018-09-09</td>\n",
       "      <td>69.111111</td>\n",
       "    </tr>\n",
       "    <tr>\n",
       "      <th>4</th>\n",
       "      <td>11445151</td>\n",
       "      <td>JB433896</td>\n",
       "      <td>09/09/2018 09:30:00 AM</td>\n",
       "      <td>035XX N JANSSEN AVE</td>\n",
       "      <td>0820</td>\n",
       "      <td>THEFT</td>\n",
       "      <td>$500 AND UNDER</td>\n",
       "      <td>RESIDENTIAL YARD (FRONT/BACK)</td>\n",
       "      <td>False</td>\n",
       "      <td>False</td>\n",
       "      <td>...</td>\n",
       "      <td>06</td>\n",
       "      <td>1166012.0</td>\n",
       "      <td>1923579.0</td>\n",
       "      <td>2018</td>\n",
       "      <td>09/16/2018 04:05:04 PM</td>\n",
       "      <td>41.945886</td>\n",
       "      <td>-87.665198</td>\n",
       "      <td>(41.945885657, -87.66519775)</td>\n",
       "      <td>2018-09-09</td>\n",
       "      <td>69.111111</td>\n",
       "    </tr>\n",
       "  </tbody>\n",
       "</table>\n",
       "<p>5 rows × 24 columns</p>\n",
       "</div>"
      ],
      "text/plain": [
       "         ID Case Number                    Date                Block  IUCR  \\\n",
       "0     24170    JB429040  09/09/2018 10:30:00 PM      019XX E 74TH ST  0110   \n",
       "1  11445354    JB434245  09/09/2018 10:43:00 AM   034XX N ALBANY AVE  0486   \n",
       "2  11445290    JB434151  09/09/2018 01:00:00 PM  018XX S KILDARE AVE  1130   \n",
       "3  11445236    JB434294  09/09/2018 03:25:00 PM   025XX N ELSTON AVE  0560   \n",
       "4  11445151    JB433896  09/09/2018 09:30:00 AM  035XX N JANSSEN AVE  0820   \n",
       "\n",
       "         Primary Type               Description  \\\n",
       "0            HOMICIDE       FIRST DEGREE MURDER   \n",
       "1             BATTERY   DOMESTIC BATTERY SIMPLE   \n",
       "2  DECEPTIVE PRACTICE  FRAUD OR CONFIDENCE GAME   \n",
       "3             ASSAULT                    SIMPLE   \n",
       "4               THEFT            $500 AND UNDER   \n",
       "\n",
       "            Location Description  Arrest  Domestic    ...      FBI Code  \\\n",
       "0                         STREET   False     False    ...           01A   \n",
       "1                      RESIDENCE   False      True    ...           08B   \n",
       "2                      RESIDENCE   False     False    ...            11   \n",
       "3             SMALL RETAIL STORE   False     False    ...           08A   \n",
       "4  RESIDENTIAL YARD (FRONT/BACK)   False     False    ...            06   \n",
       "\n",
       "   X Coordinate  Y Coordinate  Year              Updated On   Latitude  \\\n",
       "0     1190271.0     1856285.0  2018  09/16/2018 04:05:04 PM  41.760675   \n",
       "1     1155112.0     1922612.0  2018  09/16/2018 04:05:04 PM  41.943458   \n",
       "2     1147918.0     1890726.0  2018  09/16/2018 04:05:04 PM  41.856101   \n",
       "3     1161467.0     1917112.0  2018  09/16/2018 04:05:04 PM  41.928236   \n",
       "4     1166012.0     1923579.0  2018  09/16/2018 04:05:04 PM  41.945886   \n",
       "\n",
       "   Longitude                       Location Reformatted Date   AVG TEMP  \n",
       "0 -87.578207  (41.760674759, -87.578206773)       2018-09-09  69.111111  \n",
       "1 -87.705289  (41.943458302, -87.705288503)       2018-09-09  69.111111  \n",
       "2 -87.732551   (41.856101365, -87.73255109)       2018-09-09  69.111111  \n",
       "3 -87.682084  (41.928235818, -87.682084152)       2018-09-09  69.111111  \n",
       "4 -87.665198   (41.945885657, -87.66519775)       2018-09-09  69.111111  \n",
       "\n",
       "[5 rows x 24 columns]"
      ]
     },
     "execution_count": 4,
     "metadata": {},
     "output_type": "execute_result"
    }
   ],
   "source": [
    "data.head()"
   ]
  },
  {
   "cell_type": "code",
   "execution_count": 5,
   "metadata": {},
   "outputs": [
    {
     "data": {
      "text/plain": [
       "(181816, 24)"
      ]
     },
     "execution_count": 5,
     "metadata": {},
     "output_type": "execute_result"
    }
   ],
   "source": [
    "data.shape"
   ]
  },
  {
   "cell_type": "markdown",
   "metadata": {},
   "source": [
    "Great! So we have over 180,000 records against 24 columns. In this isolated scenario we are going to use both the weather and previously criminal instances to predict the type, location, and level of severity of a criminal activity. Let's separate our x's and y's.\n",
    "\n",
    "The y's we are most interested in predicting are as follows:\n",
    "\n",
    "- Kidnapping\n",
    "- Sexual assault \n",
    "- Homocide\n",
    "- Motor vehicle theft \n",
    "- Weapons violation\n",
    "- Battery\n",
    "- Theft\n",
    "\n",
    "Let's make a dictionary that associates each of these with a number."
   ]
  },
  {
   "cell_type": "code",
   "execution_count": 30,
   "metadata": {},
   "outputs": [],
   "source": [
    "types_of_crime = [\"KIDNAPPING \", \"SEX OFFENSE\", \"HOMICIDE\", \"MOTOR VEHICLE THEFT\", \"WEAPONS VIOLATION\", \"BATTERY\", \"THEFT\"]\n",
    "\n",
    "def get_crime_dict(crime_list):\n",
    "    rt = {}\n",
    "    for idx, crime in enumerate(crime_list):\n",
    "        rt[crime] = idx\n",
    "    return rt\n",
    "\n",
    "crime_dict = get_crime_dict(types_of_crime)"
   ]
  },
  {
   "cell_type": "code",
   "execution_count": 19,
   "metadata": {},
   "outputs": [],
   "source": [
    "def limit_by_crime_type(crime_list, df):\n",
    "    return df[ df[\"Primary Type\"].isin(crime_list)]\n",
    "    \n",
    "df = limit_by_crime_type(types_of_crime, data)"
   ]
  },
  {
   "cell_type": "code",
   "execution_count": 24,
   "metadata": {},
   "outputs": [
    {
     "data": {
      "text/plain": [
       "(90133, 24)"
      ]
     },
     "execution_count": 24,
     "metadata": {},
     "output_type": "execute_result"
    }
   ],
   "source": [
    "df.shape"
   ]
  },
  {
   "cell_type": "code",
   "execution_count": 25,
   "metadata": {},
   "outputs": [
    {
     "data": {
      "text/plain": [
       "THEFT                  43542\n",
       "BATTERY                34869\n",
       "MOTOR VEHICLE THEFT     6808\n",
       "WEAPONS VIOLATION       3814\n",
       "SEX OFFENSE              704\n",
       "HOMICIDE                 396\n",
       "Name: Primary Type, dtype: int64"
      ]
     },
     "execution_count": 25,
     "metadata": {},
     "output_type": "execute_result"
    }
   ],
   "source": [
    "df[\"Primary Type\"].value_counts()"
   ]
  },
  {
   "cell_type": "markdown",
   "metadata": {},
   "source": [
    "For the most basic version of the model, we'll just look at the temperature of the previous day. Once we have that training on SageMaker, we'll look at continuous integration pipelines to push our changes a LOT easier, then we'll iteratively improve the modeling strategy step by step. We can also design our system to send us updates when the model is producing low confidence scores, so that we can improve it as more data results come in."
   ]
  },
  {
   "cell_type": "code",
   "execution_count": 40,
   "metadata": {},
   "outputs": [
    {
     "name": "stderr",
     "output_type": "stream",
     "text": [
      "/home/ec2-user/anaconda3/envs/python3/lib/python3.6/site-packages/ipykernel/__main__.py:3: SettingWithCopyWarning: \n",
      "A value is trying to be set on a copy of a slice from a DataFrame.\n",
      "Try using .loc[row_indexer,col_indexer] = value instead\n",
      "\n",
      "See the caveats in the documentation: http://pandas.pydata.org/pandas-docs/stable/indexing.html#indexing-view-versus-copy\n",
      "  app.launch_new_instance()\n"
     ]
    }
   ],
   "source": [
    "def replace_crime_type_with_id(df, crime_dict):\n",
    "    \n",
    "    df[\"Target\"] = [0 for i in range(df.shape[0])]\n",
    "    \n",
    "    for idx, row in df.iterrows():\n",
    "        c = row[\"Primary Type\"]\n",
    "        c_id = crime_dict[c]\n",
    "        df.at[idx, \"Target\"] = c_id        \n",
    "    return df\n",
    "    \n",
    "replaced_df = replace_crime_type_with_id(df, crime_dict)"
   ]
  },
  {
   "cell_type": "markdown",
   "metadata": {},
   "source": [
    "Ok, we have the target variable organized into a multi-class classification, now we need to formulate our x dependent variables. At this point it's helpful to draw a picture of your data, so you can mentally visualize how to organize the rows and columns. I've already done this on paper, so will continue here."
   ]
  },
  {
   "cell_type": "code",
   "execution_count": 45,
   "metadata": {},
   "outputs": [
    {
     "data": {
      "text/plain": [
       "['ID',\n",
       " 'Case Number',\n",
       " 'Date',\n",
       " 'Block',\n",
       " 'IUCR',\n",
       " 'Primary Type',\n",
       " 'Description',\n",
       " 'Location Description',\n",
       " 'Arrest',\n",
       " 'Domestic',\n",
       " 'Beat',\n",
       " 'District',\n",
       " 'Ward',\n",
       " 'Community Area',\n",
       " 'FBI Code',\n",
       " 'X Coordinate',\n",
       " 'Y Coordinate',\n",
       " 'Year',\n",
       " 'Updated On',\n",
       " 'Latitude',\n",
       " 'Longitude',\n",
       " 'Location',\n",
       " 'Reformatted Date',\n",
       " 'AVG TEMP',\n",
       " 'Target']"
      ]
     },
     "execution_count": 45,
     "metadata": {},
     "output_type": "execute_result"
    }
   ],
   "source": [
    "list(replaced_df)"
   ]
  },
  {
   "cell_type": "code",
   "execution_count": 63,
   "metadata": {},
   "outputs": [],
   "source": [
    "xs_list = [\"Target\", \"AVG TEMP\", \"Date\", \"Primary Type\", \"Block\"]\n",
    "\n",
    "model_df = replaced_df[xs_list]"
   ]
  },
  {
   "cell_type": "markdown",
   "metadata": {},
   "source": [
    "This next step is perhaps the most simple approach to transforming the data, we're exploding out the categorical variables to create new columns for each unique value. This is useful so that we can feed each of our rows into different types of models, rather than being limited by only the ones that accept categorical values."
   ]
  },
  {
   "cell_type": "code",
   "execution_count": 64,
   "metadata": {},
   "outputs": [],
   "source": [
    "model_df = pd.get_dummies(model_df, columns = [\"Block\"])"
   ]
  },
  {
   "cell_type": "markdown",
   "metadata": {},
   "source": [
    "Now that we have a loose format, let's store it on S3 so it lives past this notebook instance."
   ]
  },
  {
   "cell_type": "code",
   "execution_count": 67,
   "metadata": {},
   "outputs": [
    {
     "data": {
      "text/plain": [
       "(90133, 21041)"
      ]
     },
     "execution_count": 67,
     "metadata": {},
     "output_type": "execute_result"
    }
   ],
   "source": [
    "model_df.shape"
   ]
  },
  {
   "cell_type": "code",
   "execution_count": 1,
   "metadata": {},
   "outputs": [
    {
     "ename": "NameError",
     "evalue": "name 'model_df' is not defined",
     "output_type": "error",
     "traceback": [
      "\u001b[0;31m---------------------------------------------------------------------------\u001b[0m",
      "\u001b[0;31mNameError\u001b[0m                                 Traceback (most recent call last)",
      "\u001b[0;32m<ipython-input-1-69a6e9daf254>\u001b[0m in \u001b[0;36m<module>\u001b[0;34m()\u001b[0m\n\u001b[1;32m      2\u001b[0m     \u001b[0mprint\u001b[0m \u001b[0;34m(\u001b[0m\u001b[0mmodel_df\u001b[0m\u001b[0;34m.\u001b[0m\u001b[0mshape\u001b[0m\u001b[0;34m[\u001b[0m\u001b[0;36m0\u001b[0m\u001b[0;34m]\u001b[0m\u001b[0;34m)\u001b[0m\u001b[0;34m\u001b[0m\u001b[0m\n\u001b[1;32m      3\u001b[0m \u001b[0;34m\u001b[0m\u001b[0m\n\u001b[0;32m----> 4\u001b[0;31m \u001b[0mlimit_blocks\u001b[0m\u001b[0;34m(\u001b[0m\u001b[0mmodel_df\u001b[0m\u001b[0;34m)\u001b[0m\u001b[0;34m\u001b[0m\u001b[0m\n\u001b[0m",
      "\u001b[0;31mNameError\u001b[0m: name 'model_df' is not defined"
     ]
    }
   ],
   "source": [
    "def limit_blocks(model_df):\n",
    "    print (model_df.shape[0])\n",
    "    \n",
    "limit_blocks(model_df)"
   ]
  },
  {
   "cell_type": "markdown",
   "metadata": {},
   "source": [
    "# Let's combine all of these steps into one main function with a few nicely refactored functions."
   ]
  },
  {
   "cell_type": "code",
   "execution_count": 3,
   "metadata": {},
   "outputs": [
    {
     "name": "stderr",
     "output_type": "stream",
     "text": [
      "/home/ec2-user/anaconda3/envs/python3/lib/python3.6/site-packages/ipykernel/__main__.py:15: SettingWithCopyWarning: \n",
      "A value is trying to be set on a copy of a slice from a DataFrame.\n",
      "Try using .loc[row_indexer,col_indexer] = value instead\n",
      "\n",
      "See the caveats in the documentation: http://pandas.pydata.org/pandas-docs/stable/indexing.html#indexing-view-versus-copy\n"
     ]
    }
   ],
   "source": [
    "import pandas as pd\n",
    "\n",
    "def get_crime_dict(crime_list):\n",
    "    rt = {}\n",
    "    for idx, crime in enumerate(crime_list):\n",
    "        rt[crime] = idx\n",
    "    return rt\n",
    "\n",
    "def limit_by_crime_type(crime_list, df):\n",
    "    return df[ df[\"Primary Type\"].isin(crime_list)]\n",
    "\n",
    "\n",
    "def replace_crime_type_with_id(df, crime_dict):\n",
    "    \n",
    "    df[\"Target\"] = [0 for i in range(df.shape[0])]\n",
    "    \n",
    "    for idx, row in df.iterrows():\n",
    "        c = row[\"Primary Type\"]\n",
    "        c_id = crime_dict[c]\n",
    "        df.at[idx, \"Target\"] = c_id        \n",
    "    return df\n",
    "\n",
    "\n",
    "def main(f_name):\n",
    "    data = pd.read_csv(f_name)\n",
    "    \n",
    "    types_of_crime = [\"KIDNAPPING \", \"SEX OFFENSE\", \"HOMICIDE\", \"MOTOR VEHICLE THEFT\", \"WEAPONS VIOLATION\", \"BATTERY\", \"THEFT\"]\n",
    "\n",
    "    crime_dict = get_crime_dict(types_of_crime)\n",
    "    \n",
    "    df = limit_by_crime_type(types_of_crime, data)\n",
    "    \n",
    "    replaced_df = replace_crime_type_with_id(df, crime_dict)\n",
    "    \n",
    "    xs_list = [\"Target\", \"AVG TEMP\", \"Date\", \"Primary Type\", \"Block\"]\n",
    "\n",
    "    model_df = replaced_df[xs_list]\n",
    "    \n",
    "    return model_df\n",
    "    \n",
    "    \n",
    "df = main(\"../Chicago-ETL-Processes/Data/crime_with_temp.csv\")"
   ]
  },
  {
   "cell_type": "markdown",
   "metadata": {},
   "source": [
    "We started off with over 20,000 different blocks to classify against our 6 crime types, and that is too many for only 1 year of data for the purposes of demonstration. We'll limit that down to blocks that had over 10 counts of criminal activity in 2018."
   ]
  },
  {
   "cell_type": "code",
   "execution_count": 19,
   "metadata": {},
   "outputs": [],
   "source": [
    "def limit_blocks_by_count(df):\n",
    "\n",
    "    blocks = {}\n",
    "\n",
    "    for idx, row in df.iterrows():\n",
    "        b = row[\"Block\"]\n",
    "        if b not in blocks:\n",
    "            blocks[b] = 1\n",
    "        else:\n",
    "            blocks[b] += 1\n",
    "            \n",
    "    keepers = {}\n",
    "\n",
    "    for k, v in blocks.items():\n",
    "        if v > 10:\n",
    "            keepers[k] = v\n",
    "    \n",
    "    return keepers\n",
    "\n",
    "b = limit_blocks_by_count(df)"
   ]
  },
  {
   "cell_type": "code",
   "execution_count": 22,
   "metadata": {},
   "outputs": [],
   "source": [
    "blocks = list(b.keys())\n",
    "\n",
    "limited_by_blocks = df[ df[\"Block\"].isin(blocks)]"
   ]
  },
  {
   "cell_type": "code",
   "execution_count": 23,
   "metadata": {},
   "outputs": [
    {
     "data": {
      "text/plain": [
       "(33063, 5)"
      ]
     },
     "execution_count": 23,
     "metadata": {},
     "output_type": "execute_result"
    }
   ],
   "source": [
    "limited_by_blocks.shape"
   ]
  },
  {
   "cell_type": "code",
   "execution_count": 25,
   "metadata": {},
   "outputs": [
    {
     "data": {
      "text/plain": [
       "6    19635\n",
       "5    10886\n",
       "3     1344\n",
       "4      890\n",
       "1      213\n",
       "2       95\n",
       "Name: Target, dtype: int64"
      ]
     },
     "execution_count": 25,
     "metadata": {},
     "output_type": "execute_result"
    }
   ],
   "source": [
    "limited_by_blocks[\"Target\"].value_counts()"
   ]
  },
  {
   "cell_type": "code",
   "execution_count": 29,
   "metadata": {},
   "outputs": [
    {
     "data": {
      "text/html": [
       "<div>\n",
       "<style scoped>\n",
       "    .dataframe tbody tr th:only-of-type {\n",
       "        vertical-align: middle;\n",
       "    }\n",
       "\n",
       "    .dataframe tbody tr th {\n",
       "        vertical-align: top;\n",
       "    }\n",
       "\n",
       "    .dataframe thead th {\n",
       "        text-align: right;\n",
       "    }\n",
       "</style>\n",
       "<table border=\"1\" class=\"dataframe\">\n",
       "  <thead>\n",
       "    <tr style=\"text-align: right;\">\n",
       "      <th></th>\n",
       "      <th>Target</th>\n",
       "      <th>AVG TEMP</th>\n",
       "      <th>Date</th>\n",
       "      <th>Primary Type</th>\n",
       "      <th>Block</th>\n",
       "    </tr>\n",
       "  </thead>\n",
       "  <tbody>\n",
       "    <tr>\n",
       "      <th>6</th>\n",
       "      <td>5</td>\n",
       "      <td>69.111111</td>\n",
       "      <td>09/09/2018 02:20:00 PM</td>\n",
       "      <td>BATTERY</td>\n",
       "      <td>057XX S CICERO AVE</td>\n",
       "    </tr>\n",
       "    <tr>\n",
       "      <th>15</th>\n",
       "      <td>6</td>\n",
       "      <td>69.111111</td>\n",
       "      <td>09/09/2018 12:00:00 PM</td>\n",
       "      <td>THEFT</td>\n",
       "      <td>015XX W DIVISION ST</td>\n",
       "    </tr>\n",
       "    <tr>\n",
       "      <th>20</th>\n",
       "      <td>5</td>\n",
       "      <td>69.111111</td>\n",
       "      <td>09/09/2018 04:20:00 PM</td>\n",
       "      <td>BATTERY</td>\n",
       "      <td>009XX W BELMONT AVE</td>\n",
       "    </tr>\n",
       "    <tr>\n",
       "      <th>25</th>\n",
       "      <td>6</td>\n",
       "      <td>69.111111</td>\n",
       "      <td>09/09/2018 04:00:00 PM</td>\n",
       "      <td>THEFT</td>\n",
       "      <td>025XX W CERMAK RD</td>\n",
       "    </tr>\n",
       "    <tr>\n",
       "      <th>30</th>\n",
       "      <td>6</td>\n",
       "      <td>69.111111</td>\n",
       "      <td>09/09/2018 08:00:00 AM</td>\n",
       "      <td>THEFT</td>\n",
       "      <td>013XX W BELMONT AVE</td>\n",
       "    </tr>\n",
       "  </tbody>\n",
       "</table>\n",
       "</div>"
      ],
      "text/plain": [
       "    Target   AVG TEMP                    Date Primary Type  \\\n",
       "6        5  69.111111  09/09/2018 02:20:00 PM      BATTERY   \n",
       "15       6  69.111111  09/09/2018 12:00:00 PM        THEFT   \n",
       "20       5  69.111111  09/09/2018 04:20:00 PM      BATTERY   \n",
       "25       6  69.111111  09/09/2018 04:00:00 PM        THEFT   \n",
       "30       6  69.111111  09/09/2018 08:00:00 AM        THEFT   \n",
       "\n",
       "                  Block  \n",
       "6    057XX S CICERO AVE  \n",
       "15  015XX W DIVISION ST  \n",
       "20  009XX W BELMONT AVE  \n",
       "25    025XX W CERMAK RD  \n",
       "30  013XX W BELMONT AVE  "
      ]
     },
     "execution_count": 29,
     "metadata": {},
     "output_type": "execute_result"
    }
   ],
   "source": [
    "limited_by_blocks.head()"
   ]
  },
  {
   "cell_type": "code",
   "execution_count": 30,
   "metadata": {},
   "outputs": [],
   "source": [
    "binary = pd.get_dummies(limited_by_blocks, columns=[\"Block\"])"
   ]
  },
  {
   "cell_type": "code",
   "execution_count": 32,
   "metadata": {},
   "outputs": [
    {
     "data": {
      "text/plain": [
       "(33063, 1512)"
      ]
     },
     "execution_count": 32,
     "metadata": {},
     "output_type": "execute_result"
    }
   ],
   "source": [
    "binary.shape"
   ]
  },
  {
   "cell_type": "code",
   "execution_count": 34,
   "metadata": {},
   "outputs": [],
   "source": [
    "binary.to_csv(\"Data/fewer_labeled_rows_by_block.csv\", index=False)"
   ]
  },
  {
   "cell_type": "code",
   "execution_count": null,
   "metadata": {},
   "outputs": [],
   "source": []
  },
  {
   "cell_type": "code",
   "execution_count": null,
   "metadata": {},
   "outputs": [],
   "source": []
  }
 ],
 "metadata": {
  "kernelspec": {
   "display_name": "conda_python3",
   "language": "python",
   "name": "conda_python3"
  },
  "language_info": {
   "codemirror_mode": {
    "name": "ipython",
    "version": 3
   },
   "file_extension": ".py",
   "mimetype": "text/x-python",
   "name": "python",
   "nbconvert_exporter": "python",
   "pygments_lexer": "ipython3",
   "version": "3.6.5"
  }
 },
 "nbformat": 4,
 "nbformat_minor": 2
}
