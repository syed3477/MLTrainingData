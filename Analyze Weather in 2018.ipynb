{
 "cells": [
  {
   "cell_type": "markdown",
   "metadata": {},
   "source": [
    "# Copy data from S3 and load into Pandas"
   ]
  },
  {
   "cell_type": "code",
   "execution_count": 84,
   "metadata": {},
   "outputs": [],
   "source": [
    "import pandas as pd\n",
    "import boto3\n",
    "import botocore\n",
    "\n",
    "bucket = \"sagemaker-chicago-data\"\n",
    "key = \"1470205.csv\"\n",
    "\n",
    "s3 = boto3.resource('s3')\n",
    "s3.Bucket(bucket).download_file(key, \"../Data/weather_2018.csv\")"
   ]
  },
  {
   "cell_type": "code",
   "execution_count": 85,
   "metadata": {},
   "outputs": [],
   "source": [
    "df = pd.read_csv(\"../Data/weather_2018.csv\", index_col = \"STATION\")"
   ]
  },
  {
   "cell_type": "code",
   "execution_count": 86,
   "metadata": {},
   "outputs": [
    {
     "data": {
      "text/html": [
       "<div>\n",
       "<style scoped>\n",
       "    .dataframe tbody tr th:only-of-type {\n",
       "        vertical-align: middle;\n",
       "    }\n",
       "\n",
       "    .dataframe tbody tr th {\n",
       "        vertical-align: top;\n",
       "    }\n",
       "\n",
       "    .dataframe thead th {\n",
       "        text-align: right;\n",
       "    }\n",
       "</style>\n",
       "<table border=\"1\" class=\"dataframe\">\n",
       "  <thead>\n",
       "    <tr style=\"text-align: right;\">\n",
       "      <th></th>\n",
       "      <th>NAME</th>\n",
       "      <th>LATITUDE</th>\n",
       "      <th>LONGITUDE</th>\n",
       "      <th>ELEVATION</th>\n",
       "      <th>DATE</th>\n",
       "      <th>AWND</th>\n",
       "      <th>AWND_ATTRIBUTES</th>\n",
       "      <th>EVAP</th>\n",
       "      <th>EVAP_ATTRIBUTES</th>\n",
       "      <th>MNPN</th>\n",
       "      <th>...</th>\n",
       "      <th>WT04</th>\n",
       "      <th>WT04_ATTRIBUTES</th>\n",
       "      <th>WT06</th>\n",
       "      <th>WT06_ATTRIBUTES</th>\n",
       "      <th>WT08</th>\n",
       "      <th>WT08_ATTRIBUTES</th>\n",
       "      <th>WT09</th>\n",
       "      <th>WT09_ATTRIBUTES</th>\n",
       "      <th>WT11</th>\n",
       "      <th>WT11_ATTRIBUTES</th>\n",
       "    </tr>\n",
       "    <tr>\n",
       "      <th>STATION</th>\n",
       "      <th></th>\n",
       "      <th></th>\n",
       "      <th></th>\n",
       "      <th></th>\n",
       "      <th></th>\n",
       "      <th></th>\n",
       "      <th></th>\n",
       "      <th></th>\n",
       "      <th></th>\n",
       "      <th></th>\n",
       "      <th></th>\n",
       "      <th></th>\n",
       "      <th></th>\n",
       "      <th></th>\n",
       "      <th></th>\n",
       "      <th></th>\n",
       "      <th></th>\n",
       "      <th></th>\n",
       "      <th></th>\n",
       "      <th></th>\n",
       "      <th></th>\n",
       "    </tr>\n",
       "  </thead>\n",
       "  <tbody>\n",
       "    <tr>\n",
       "      <th>USC00111550</th>\n",
       "      <td>CHICAGO NORTHERLY ISLAND, IL US</td>\n",
       "      <td>41.8558</td>\n",
       "      <td>-87.6094</td>\n",
       "      <td>177.7</td>\n",
       "      <td>2018-01-01</td>\n",
       "      <td>NaN</td>\n",
       "      <td>NaN</td>\n",
       "      <td>NaN</td>\n",
       "      <td>NaN</td>\n",
       "      <td>NaN</td>\n",
       "      <td>...</td>\n",
       "      <td>NaN</td>\n",
       "      <td>NaN</td>\n",
       "      <td>NaN</td>\n",
       "      <td>NaN</td>\n",
       "      <td>NaN</td>\n",
       "      <td>NaN</td>\n",
       "      <td>NaN</td>\n",
       "      <td>NaN</td>\n",
       "      <td>NaN</td>\n",
       "      <td>NaN</td>\n",
       "    </tr>\n",
       "    <tr>\n",
       "      <th>USC00111550</th>\n",
       "      <td>CHICAGO NORTHERLY ISLAND, IL US</td>\n",
       "      <td>41.8558</td>\n",
       "      <td>-87.6094</td>\n",
       "      <td>177.7</td>\n",
       "      <td>2018-01-02</td>\n",
       "      <td>NaN</td>\n",
       "      <td>NaN</td>\n",
       "      <td>NaN</td>\n",
       "      <td>NaN</td>\n",
       "      <td>NaN</td>\n",
       "      <td>...</td>\n",
       "      <td>NaN</td>\n",
       "      <td>NaN</td>\n",
       "      <td>NaN</td>\n",
       "      <td>NaN</td>\n",
       "      <td>NaN</td>\n",
       "      <td>NaN</td>\n",
       "      <td>NaN</td>\n",
       "      <td>NaN</td>\n",
       "      <td>NaN</td>\n",
       "      <td>NaN</td>\n",
       "    </tr>\n",
       "    <tr>\n",
       "      <th>USC00111550</th>\n",
       "      <td>CHICAGO NORTHERLY ISLAND, IL US</td>\n",
       "      <td>41.8558</td>\n",
       "      <td>-87.6094</td>\n",
       "      <td>177.7</td>\n",
       "      <td>2018-01-03</td>\n",
       "      <td>NaN</td>\n",
       "      <td>NaN</td>\n",
       "      <td>NaN</td>\n",
       "      <td>NaN</td>\n",
       "      <td>NaN</td>\n",
       "      <td>...</td>\n",
       "      <td>NaN</td>\n",
       "      <td>NaN</td>\n",
       "      <td>NaN</td>\n",
       "      <td>NaN</td>\n",
       "      <td>NaN</td>\n",
       "      <td>NaN</td>\n",
       "      <td>NaN</td>\n",
       "      <td>NaN</td>\n",
       "      <td>NaN</td>\n",
       "      <td>NaN</td>\n",
       "    </tr>\n",
       "    <tr>\n",
       "      <th>USC00111550</th>\n",
       "      <td>CHICAGO NORTHERLY ISLAND, IL US</td>\n",
       "      <td>41.8558</td>\n",
       "      <td>-87.6094</td>\n",
       "      <td>177.7</td>\n",
       "      <td>2018-01-04</td>\n",
       "      <td>NaN</td>\n",
       "      <td>NaN</td>\n",
       "      <td>NaN</td>\n",
       "      <td>NaN</td>\n",
       "      <td>NaN</td>\n",
       "      <td>...</td>\n",
       "      <td>NaN</td>\n",
       "      <td>NaN</td>\n",
       "      <td>NaN</td>\n",
       "      <td>NaN</td>\n",
       "      <td>NaN</td>\n",
       "      <td>NaN</td>\n",
       "      <td>NaN</td>\n",
       "      <td>NaN</td>\n",
       "      <td>NaN</td>\n",
       "      <td>NaN</td>\n",
       "    </tr>\n",
       "    <tr>\n",
       "      <th>USC00111550</th>\n",
       "      <td>CHICAGO NORTHERLY ISLAND, IL US</td>\n",
       "      <td>41.8558</td>\n",
       "      <td>-87.6094</td>\n",
       "      <td>177.7</td>\n",
       "      <td>2018-01-05</td>\n",
       "      <td>NaN</td>\n",
       "      <td>NaN</td>\n",
       "      <td>NaN</td>\n",
       "      <td>NaN</td>\n",
       "      <td>NaN</td>\n",
       "      <td>...</td>\n",
       "      <td>NaN</td>\n",
       "      <td>NaN</td>\n",
       "      <td>NaN</td>\n",
       "      <td>NaN</td>\n",
       "      <td>NaN</td>\n",
       "      <td>NaN</td>\n",
       "      <td>NaN</td>\n",
       "      <td>NaN</td>\n",
       "      <td>NaN</td>\n",
       "      <td>NaN</td>\n",
       "    </tr>\n",
       "  </tbody>\n",
       "</table>\n",
       "<p>5 rows × 67 columns</p>\n",
       "</div>"
      ],
      "text/plain": [
       "                                        NAME  LATITUDE  LONGITUDE  ELEVATION  \\\n",
       "STATION                                                                        \n",
       "USC00111550  CHICAGO NORTHERLY ISLAND, IL US   41.8558   -87.6094      177.7   \n",
       "USC00111550  CHICAGO NORTHERLY ISLAND, IL US   41.8558   -87.6094      177.7   \n",
       "USC00111550  CHICAGO NORTHERLY ISLAND, IL US   41.8558   -87.6094      177.7   \n",
       "USC00111550  CHICAGO NORTHERLY ISLAND, IL US   41.8558   -87.6094      177.7   \n",
       "USC00111550  CHICAGO NORTHERLY ISLAND, IL US   41.8558   -87.6094      177.7   \n",
       "\n",
       "                   DATE  AWND AWND_ATTRIBUTES  EVAP EVAP_ATTRIBUTES  MNPN  \\\n",
       "STATION                                                                     \n",
       "USC00111550  2018-01-01   NaN             NaN   NaN             NaN   NaN   \n",
       "USC00111550  2018-01-02   NaN             NaN   NaN             NaN   NaN   \n",
       "USC00111550  2018-01-03   NaN             NaN   NaN             NaN   NaN   \n",
       "USC00111550  2018-01-04   NaN             NaN   NaN             NaN   NaN   \n",
       "USC00111550  2018-01-05   NaN             NaN   NaN             NaN   NaN   \n",
       "\n",
       "                  ...        WT04  WT04_ATTRIBUTES WT06  WT06_ATTRIBUTES WT08  \\\n",
       "STATION           ...                                                           \n",
       "USC00111550       ...         NaN              NaN  NaN              NaN  NaN   \n",
       "USC00111550       ...         NaN              NaN  NaN              NaN  NaN   \n",
       "USC00111550       ...         NaN              NaN  NaN              NaN  NaN   \n",
       "USC00111550       ...         NaN              NaN  NaN              NaN  NaN   \n",
       "USC00111550       ...         NaN              NaN  NaN              NaN  NaN   \n",
       "\n",
       "             WT08_ATTRIBUTES WT09  WT09_ATTRIBUTES WT11  WT11_ATTRIBUTES  \n",
       "STATION                                                                   \n",
       "USC00111550              NaN  NaN              NaN  NaN              NaN  \n",
       "USC00111550              NaN  NaN              NaN  NaN              NaN  \n",
       "USC00111550              NaN  NaN              NaN  NaN              NaN  \n",
       "USC00111550              NaN  NaN              NaN  NaN              NaN  \n",
       "USC00111550              NaN  NaN              NaN  NaN              NaN  \n",
       "\n",
       "[5 rows x 67 columns]"
      ]
     },
     "execution_count": 86,
     "metadata": {},
     "output_type": "execute_result"
    }
   ],
   "source": [
    "df.head()"
   ]
  },
  {
   "cell_type": "code",
   "execution_count": 7,
   "metadata": {},
   "outputs": [
    {
     "data": {
      "text/plain": [
       "(3312, 68)"
      ]
     },
     "execution_count": 7,
     "metadata": {},
     "output_type": "execute_result"
    }
   ],
   "source": [
    "df.shape"
   ]
  },
  {
   "cell_type": "markdown",
   "metadata": {},
   "source": [
    "## Analysis\n",
    "We have 3,312 rows against 68 columns. Looks like there are a substantial amount of missing values here. This means we have to make a decision about how we will handle them. "
   ]
  },
  {
   "cell_type": "code",
   "execution_count": 27,
   "metadata": {},
   "outputs": [],
   "source": [
    "def get_missing_values(df):\n",
    "\n",
    "    m = {}\n",
    "\n",
    "    total_rows = df.shape[0]\n",
    "    \n",
    "    for h in list(df):\n",
    "        n_missing = df[h].isna().sum()\n",
    "\n",
    "        ratio_missing = n_missing / total_rows\n",
    "\n",
    "        if ratio_missing > .10:\n",
    "        \n",
    "            m[h] = \"{0:.2f}%\".format(ratio_missing * 100)\n",
    "    \n",
    "    return m\n",
    "\n",
    "missing_values = get_missing_values(df)    "
   ]
  },
  {
   "cell_type": "code",
   "execution_count": 28,
   "metadata": {},
   "outputs": [
    {
     "data": {
      "text/plain": [
       "{'AWND': '53.68%',\n",
       " 'AWND_ATTRIBUTES': '53.68%',\n",
       " 'EVAP': '97.43%',\n",
       " 'EVAP_ATTRIBUTES': '97.43%',\n",
       " 'MNPN': '98.52%',\n",
       " 'MNPN_ATTRIBUTES': '98.52%',\n",
       " 'MXPN': '98.52%',\n",
       " 'MXPN_ATTRIBUTES': '98.52%',\n",
       " 'PGTM': '61.38%',\n",
       " 'PGTM_ATTRIBUTES': '61.38%',\n",
       " 'SN32': '93.63%',\n",
       " 'SN32_ATTRIBUTES': '93.63%',\n",
       " 'SN52': '93.63%',\n",
       " 'SN52_ATTRIBUTES': '93.63%',\n",
       " 'SNOW': '55.86%',\n",
       " 'SNOW_ATTRIBUTES': '55.86%',\n",
       " 'SNWD': '64.43%',\n",
       " 'SNWD_ATTRIBUTES': '64.43%',\n",
       " 'SX32': '93.63%',\n",
       " 'SX32_ATTRIBUTES': '93.63%',\n",
       " 'SX52': '93.63%',\n",
       " 'SX52_ATTRIBUTES': '93.63%',\n",
       " 'TAVG': '94.69%',\n",
       " 'TAVG_ATTRIBUTES': '94.69%',\n",
       " 'TMAX': '30.53%',\n",
       " 'TMAX_ATTRIBUTES': '30.53%',\n",
       " 'TMIN': '30.56%',\n",
       " 'TMIN_ATTRIBUTES': '30.56%',\n",
       " 'TOBS': '76.84%',\n",
       " 'TOBS_ATTRIBUTES': '76.84%',\n",
       " 'WDF2': '53.65%',\n",
       " 'WDF2_ATTRIBUTES': '53.65%',\n",
       " 'WDF5': '53.68%',\n",
       " 'WDF5_ATTRIBUTES': '53.68%',\n",
       " 'WDMV': '97.34%',\n",
       " 'WDMV_ATTRIBUTES': '97.34%',\n",
       " 'WESD': '97.19%',\n",
       " 'WESD_ATTRIBUTES': '97.19%',\n",
       " 'WESF': '97.64%',\n",
       " 'WESF_ATTRIBUTES': '97.64%',\n",
       " 'WSF2': '53.65%',\n",
       " 'WSF2_ATTRIBUTES': '53.65%',\n",
       " 'WSF5': '53.68%',\n",
       " 'WSF5_ATTRIBUTES': '53.68%',\n",
       " 'WT01': '92.90%',\n",
       " 'WT01_ATTRIBUTES': '92.90%',\n",
       " 'WT02': '99.52%',\n",
       " 'WT02_ATTRIBUTES': '99.52%',\n",
       " 'WT03': '97.95%',\n",
       " 'WT03_ATTRIBUTES': '97.95%',\n",
       " 'WT04': '99.70%',\n",
       " 'WT04_ATTRIBUTES': '99.70%',\n",
       " 'WT06': '99.73%',\n",
       " 'WT06_ATTRIBUTES': '99.73%',\n",
       " 'WT08': '97.46%',\n",
       " 'WT08_ATTRIBUTES': '97.46%',\n",
       " 'WT09': '99.94%',\n",
       " 'WT09_ATTRIBUTES': '99.94%',\n",
       " 'WT11': '99.97%',\n",
       " 'WT11_ATTRIBUTES': '99.97%'}"
      ]
     },
     "execution_count": 28,
     "metadata": {},
     "output_type": "execute_result"
    }
   ],
   "source": [
    "missing_values"
   ]
  },
  {
   "cell_type": "markdown",
   "metadata": {},
   "source": [
    "## This is getting a bit cumbersome. Let's simplify this to only grab temperature."
   ]
  },
  {
   "cell_type": "code",
   "execution_count": 36,
   "metadata": {},
   "outputs": [],
   "source": [
    "keep_list = [\"STATION\", \"NAME\", \"LATITUDE\", \"LONGITUDE\", \"DATE\", \"TMAX\", \"TMIN\"]\n",
    "\n",
    "reduced_df = df[keep_list]"
   ]
  },
  {
   "cell_type": "code",
   "execution_count": 37,
   "metadata": {},
   "outputs": [
    {
     "data": {
      "text/html": [
       "<div>\n",
       "<style scoped>\n",
       "    .dataframe tbody tr th:only-of-type {\n",
       "        vertical-align: middle;\n",
       "    }\n",
       "\n",
       "    .dataframe tbody tr th {\n",
       "        vertical-align: top;\n",
       "    }\n",
       "\n",
       "    .dataframe thead th {\n",
       "        text-align: right;\n",
       "    }\n",
       "</style>\n",
       "<table border=\"1\" class=\"dataframe\">\n",
       "  <thead>\n",
       "    <tr style=\"text-align: right;\">\n",
       "      <th></th>\n",
       "      <th>STATION</th>\n",
       "      <th>NAME</th>\n",
       "      <th>LATITUDE</th>\n",
       "      <th>LONGITUDE</th>\n",
       "      <th>DATE</th>\n",
       "      <th>TMAX</th>\n",
       "      <th>TMIN</th>\n",
       "    </tr>\n",
       "  </thead>\n",
       "  <tbody>\n",
       "    <tr>\n",
       "      <th>0</th>\n",
       "      <td>USC00111550</td>\n",
       "      <td>CHICAGO NORTHERLY ISLAND, IL US</td>\n",
       "      <td>41.8558</td>\n",
       "      <td>-87.6094</td>\n",
       "      <td>2018-01-01</td>\n",
       "      <td>6.0</td>\n",
       "      <td>-5.0</td>\n",
       "    </tr>\n",
       "    <tr>\n",
       "      <th>1</th>\n",
       "      <td>USC00111550</td>\n",
       "      <td>CHICAGO NORTHERLY ISLAND, IL US</td>\n",
       "      <td>41.8558</td>\n",
       "      <td>-87.6094</td>\n",
       "      <td>2018-01-02</td>\n",
       "      <td>8.0</td>\n",
       "      <td>-7.0</td>\n",
       "    </tr>\n",
       "    <tr>\n",
       "      <th>2</th>\n",
       "      <td>USC00111550</td>\n",
       "      <td>CHICAGO NORTHERLY ISLAND, IL US</td>\n",
       "      <td>41.8558</td>\n",
       "      <td>-87.6094</td>\n",
       "      <td>2018-01-03</td>\n",
       "      <td>18.0</td>\n",
       "      <td>8.0</td>\n",
       "    </tr>\n",
       "    <tr>\n",
       "      <th>3</th>\n",
       "      <td>USC00111550</td>\n",
       "      <td>CHICAGO NORTHERLY ISLAND, IL US</td>\n",
       "      <td>41.8558</td>\n",
       "      <td>-87.6094</td>\n",
       "      <td>2018-01-04</td>\n",
       "      <td>14.0</td>\n",
       "      <td>4.0</td>\n",
       "    </tr>\n",
       "    <tr>\n",
       "      <th>4</th>\n",
       "      <td>USC00111550</td>\n",
       "      <td>CHICAGO NORTHERLY ISLAND, IL US</td>\n",
       "      <td>41.8558</td>\n",
       "      <td>-87.6094</td>\n",
       "      <td>2018-01-05</td>\n",
       "      <td>13.0</td>\n",
       "      <td>3.0</td>\n",
       "    </tr>\n",
       "  </tbody>\n",
       "</table>\n",
       "</div>"
      ],
      "text/plain": [
       "       STATION                             NAME  LATITUDE  LONGITUDE  \\\n",
       "0  USC00111550  CHICAGO NORTHERLY ISLAND, IL US   41.8558   -87.6094   \n",
       "1  USC00111550  CHICAGO NORTHERLY ISLAND, IL US   41.8558   -87.6094   \n",
       "2  USC00111550  CHICAGO NORTHERLY ISLAND, IL US   41.8558   -87.6094   \n",
       "3  USC00111550  CHICAGO NORTHERLY ISLAND, IL US   41.8558   -87.6094   \n",
       "4  USC00111550  CHICAGO NORTHERLY ISLAND, IL US   41.8558   -87.6094   \n",
       "\n",
       "         DATE  TMAX  TMIN  \n",
       "0  2018-01-01   6.0  -5.0  \n",
       "1  2018-01-02   8.0  -7.0  \n",
       "2  2018-01-03  18.0   8.0  \n",
       "3  2018-01-04  14.0   4.0  \n",
       "4  2018-01-05  13.0   3.0  "
      ]
     },
     "execution_count": 37,
     "metadata": {},
     "output_type": "execute_result"
    }
   ],
   "source": [
    "reduced_df.head()"
   ]
  },
  {
   "cell_type": "code",
   "execution_count": 39,
   "metadata": {},
   "outputs": [
    {
     "data": {
      "text/plain": [
       "<matplotlib.axes._subplots.AxesSubplot at 0x7f5a35a8fa90>"
      ]
     },
     "execution_count": 39,
     "metadata": {},
     "output_type": "execute_result"
    },
    {
     "data": {
      "image/png": "[encoded data removed]",
      "text/plain": [
       "<Figure size 432x288 with 1 Axes>"
      ]
     },
     "metadata": {},
     "output_type": "display_data"
    }
   ],
   "source": [
    "%matplotlib inline\n",
    "\n",
    "reduced_df[\"TMAX\"].hist()"
   ]
  },
  {
   "cell_type": "code",
   "execution_count": 40,
   "metadata": {},
   "outputs": [
    {
     "data": {
      "text/plain": [
       "<matplotlib.axes._subplots.AxesSubplot at 0x7f5a35a520b8>"
      ]
     },
     "execution_count": 40,
     "metadata": {},
     "output_type": "execute_result"
    },
    {
     "data": {
      "image/png": "[encoded data removed]",
      "text/plain": [
       "<Figure size 432x288 with 1 Axes>"
      ]
     },
     "metadata": {},
     "output_type": "display_data"
    }
   ],
   "source": [
    "reduced_df[\"TMIN\"].hist()"
   ]
  },
  {
   "cell_type": "markdown",
   "metadata": {},
   "source": [
    "## Success! \n",
    "This is all looking great, we've confirmed that we have real temperature in our data. Now let's see how this is distributed over the stations."
   ]
  },
  {
   "cell_type": "code",
   "execution_count": 41,
   "metadata": {},
   "outputs": [
    {
     "data": {
      "text/plain": [
       "CHICAGO OHARE INTERNATIONAL AIRPORT, IL US    258\n",
       "CHICAGO BOTANIC GARDEN, IL US                 258\n",
       "CHICAGO MIDWAY AIRPORT 3 SW, IL US            257\n",
       "CHICAGO WAUKEGAN REGIONAL AIRPORT, IL US      256\n",
       "CHICAGO PALWAUKEE AIRPORT, IL US              256\n",
       "CHICAGO MIDWAY AIRPORT, IL US                 256\n",
       "CHICAGO AURORA MUNICIPAL AIRPORT, IL US       256\n",
       "CHICAGO WEST CHICAGO DUPAGE AIRPORT, IL US    255\n",
       "CHICAGO NORTHERLY ISLAND, IL US               252\n",
       "CHICAGO HEIGHTS 2.4 NNW, IL US                247\n",
       "CHICAGO 5.5 ESE, IL US                        246\n",
       "CHICAGO RIDGE 0.2 WSW, IL US                  240\n",
       "CHICAGO 4.7 NE, IL US                         226\n",
       "CHICAGO 6.4 NNE, IL US                         27\n",
       "CHICAGO 2.7 WNW, IL US                         22\n",
       "Name: NAME, dtype: int64"
      ]
     },
     "execution_count": 41,
     "metadata": {},
     "output_type": "execute_result"
    }
   ],
   "source": [
    "reduced_df[\"NAME\"].value_counts()"
   ]
  },
  {
   "cell_type": "markdown",
   "metadata": {},
   "source": [
    "Wow, who know we had so many airports in Chicago! Let's only keep the stations where we have more than 200 observations for the year."
   ]
  },
  {
   "cell_type": "code",
   "execution_count": 66,
   "metadata": {},
   "outputs": [],
   "source": [
    "def get_station_keep_list(df):\n",
    "    s = df[\"NAME\"].value_counts().to_dict()\n",
    "\n",
    "    keep_stations = {}\n",
    "\n",
    "    for k, v in s.items():\n",
    "        if v > 200:\n",
    "            keep_stations[k] = v\n",
    "            \n",
    "    return list(keep_stations.keys())\n",
    "        \n",
    "station_keep_list = get_station_keep_list(reduced_df)"
   ]
  },
  {
   "cell_type": "code",
   "execution_count": 67,
   "metadata": {},
   "outputs": [
    {
     "data": {
      "text/plain": [
       "['CHICAGO OHARE INTERNATIONAL AIRPORT, IL US',\n",
       " 'CHICAGO BOTANIC GARDEN, IL US',\n",
       " 'CHICAGO MIDWAY AIRPORT 3 SW, IL US',\n",
       " 'CHICAGO WAUKEGAN REGIONAL AIRPORT, IL US',\n",
       " 'CHICAGO PALWAUKEE AIRPORT, IL US',\n",
       " 'CHICAGO MIDWAY AIRPORT, IL US',\n",
       " 'CHICAGO AURORA MUNICIPAL AIRPORT, IL US',\n",
       " 'CHICAGO WEST CHICAGO DUPAGE AIRPORT, IL US',\n",
       " 'CHICAGO NORTHERLY ISLAND, IL US',\n",
       " 'CHICAGO HEIGHTS 2.4 NNW, IL US',\n",
       " 'CHICAGO 5.5 ESE, IL US',\n",
       " 'CHICAGO RIDGE 0.2 WSW, IL US',\n",
       " 'CHICAGO 4.7 NE, IL US']"
      ]
     },
     "execution_count": 67,
     "metadata": {},
     "output_type": "execute_result"
    }
   ],
   "source": [
    "station_keep_list"
   ]
  },
  {
   "cell_type": "markdown",
   "metadata": {},
   "source": [
    "Now we just need to limit our reduced data frame based on the name being in this list, and then we are set."
   ]
  },
  {
   "cell_type": "code",
   "execution_count": 68,
   "metadata": {},
   "outputs": [],
   "source": [
    "final_df = reduced_df[ df[\"NAME\"].isin(station_keep_list)]"
   ]
  },
  {
   "cell_type": "code",
   "execution_count": 69,
   "metadata": {},
   "outputs": [
    {
     "data": {
      "text/html": [
       "<div>\n",
       "<style scoped>\n",
       "    .dataframe tbody tr th:only-of-type {\n",
       "        vertical-align: middle;\n",
       "    }\n",
       "\n",
       "    .dataframe tbody tr th {\n",
       "        vertical-align: top;\n",
       "    }\n",
       "\n",
       "    .dataframe thead th {\n",
       "        text-align: right;\n",
       "    }\n",
       "</style>\n",
       "<table border=\"1\" class=\"dataframe\">\n",
       "  <thead>\n",
       "    <tr style=\"text-align: right;\">\n",
       "      <th></th>\n",
       "      <th>STATION</th>\n",
       "      <th>NAME</th>\n",
       "      <th>LATITUDE</th>\n",
       "      <th>LONGITUDE</th>\n",
       "      <th>DATE</th>\n",
       "      <th>TMAX</th>\n",
       "      <th>TMIN</th>\n",
       "    </tr>\n",
       "  </thead>\n",
       "  <tbody>\n",
       "    <tr>\n",
       "      <th>0</th>\n",
       "      <td>USC00111550</td>\n",
       "      <td>CHICAGO NORTHERLY ISLAND, IL US</td>\n",
       "      <td>41.8558</td>\n",
       "      <td>-87.6094</td>\n",
       "      <td>2018-01-01</td>\n",
       "      <td>6.0</td>\n",
       "      <td>-5.0</td>\n",
       "    </tr>\n",
       "    <tr>\n",
       "      <th>1</th>\n",
       "      <td>USC00111550</td>\n",
       "      <td>CHICAGO NORTHERLY ISLAND, IL US</td>\n",
       "      <td>41.8558</td>\n",
       "      <td>-87.6094</td>\n",
       "      <td>2018-01-02</td>\n",
       "      <td>8.0</td>\n",
       "      <td>-7.0</td>\n",
       "    </tr>\n",
       "    <tr>\n",
       "      <th>2</th>\n",
       "      <td>USC00111550</td>\n",
       "      <td>CHICAGO NORTHERLY ISLAND, IL US</td>\n",
       "      <td>41.8558</td>\n",
       "      <td>-87.6094</td>\n",
       "      <td>2018-01-03</td>\n",
       "      <td>18.0</td>\n",
       "      <td>8.0</td>\n",
       "    </tr>\n",
       "    <tr>\n",
       "      <th>3</th>\n",
       "      <td>USC00111550</td>\n",
       "      <td>CHICAGO NORTHERLY ISLAND, IL US</td>\n",
       "      <td>41.8558</td>\n",
       "      <td>-87.6094</td>\n",
       "      <td>2018-01-04</td>\n",
       "      <td>14.0</td>\n",
       "      <td>4.0</td>\n",
       "    </tr>\n",
       "    <tr>\n",
       "      <th>4</th>\n",
       "      <td>USC00111550</td>\n",
       "      <td>CHICAGO NORTHERLY ISLAND, IL US</td>\n",
       "      <td>41.8558</td>\n",
       "      <td>-87.6094</td>\n",
       "      <td>2018-01-05</td>\n",
       "      <td>13.0</td>\n",
       "      <td>3.0</td>\n",
       "    </tr>\n",
       "  </tbody>\n",
       "</table>\n",
       "</div>"
      ],
      "text/plain": [
       "       STATION                             NAME  LATITUDE  LONGITUDE  \\\n",
       "0  USC00111550  CHICAGO NORTHERLY ISLAND, IL US   41.8558   -87.6094   \n",
       "1  USC00111550  CHICAGO NORTHERLY ISLAND, IL US   41.8558   -87.6094   \n",
       "2  USC00111550  CHICAGO NORTHERLY ISLAND, IL US   41.8558   -87.6094   \n",
       "3  USC00111550  CHICAGO NORTHERLY ISLAND, IL US   41.8558   -87.6094   \n",
       "4  USC00111550  CHICAGO NORTHERLY ISLAND, IL US   41.8558   -87.6094   \n",
       "\n",
       "         DATE  TMAX  TMIN  \n",
       "0  2018-01-01   6.0  -5.0  \n",
       "1  2018-01-02   8.0  -7.0  \n",
       "2  2018-01-03  18.0   8.0  \n",
       "3  2018-01-04  14.0   4.0  \n",
       "4  2018-01-05  13.0   3.0  "
      ]
     },
     "execution_count": 69,
     "metadata": {},
     "output_type": "execute_result"
    }
   ],
   "source": [
    "final_df.head()"
   ]
  },
  {
   "cell_type": "markdown",
   "metadata": {},
   "source": [
    "Let's make sure we don't have any missing values, then write this to disk."
   ]
  },
  {
   "cell_type": "code",
   "execution_count": 71,
   "metadata": {},
   "outputs": [
    {
     "data": {
      "text/plain": [
       "STATION        0\n",
       "NAME           0\n",
       "LATITUDE       0\n",
       "LONGITUDE      0\n",
       "DATE           0\n",
       "TMAX         962\n",
       "TMIN         963\n",
       "dtype: int64"
      ]
     },
     "execution_count": 71,
     "metadata": {},
     "output_type": "execute_result"
    }
   ],
   "source": [
    "final_df.isna().sum()"
   ]
  },
  {
   "cell_type": "markdown",
   "metadata": {},
   "source": [
    "Unfortunatley, it looks like we have to drop these rows. We won't be able to conduct our analysis if there is no temperature read."
   ]
  },
  {
   "cell_type": "code",
   "execution_count": 79,
   "metadata": {},
   "outputs": [],
   "source": [
    "# df = df[ (df[\"Location\"]).isna() == False ]\n",
    "\n",
    "final_df = final_df[ (final_df[\"TMAX\"].isna() == False)]\n",
    "final_df = final_df[ (final_df[\"TMIN\"].isna() == False)]"
   ]
  },
  {
   "cell_type": "code",
   "execution_count": 80,
   "metadata": {},
   "outputs": [
    {
     "data": {
      "text/plain": [
       "STATION      0\n",
       "NAME         0\n",
       "LATITUDE     0\n",
       "LONGITUDE    0\n",
       "DATE         0\n",
       "TMAX         0\n",
       "TMIN         0\n",
       "dtype: int64"
      ]
     },
     "execution_count": 80,
     "metadata": {},
     "output_type": "execute_result"
    }
   ],
   "source": [
    "final_df.isna().sum()"
   ]
  },
  {
   "cell_type": "markdown",
   "metadata": {},
   "source": [
    "# Success! Now let's write this to disk, and then make a nicely reusable function from this notebook."
   ]
  },
  {
   "cell_type": "code",
   "execution_count": 88,
   "metadata": {},
   "outputs": [],
   "source": [
    "def get_station_keep_list(df):\n",
    "    s = df[\"NAME\"].value_counts().to_dict()\n",
    "\n",
    "    keep_stations = {}\n",
    "\n",
    "    for k, v in s.items():\n",
    "        if v > 200:\n",
    "            keep_stations[k] = v\n",
    "            \n",
    "    return list(keep_stations.keys())\n",
    "\n",
    "\n",
    "def main(f_name):\n",
    "    \n",
    "    df = pd.read_csv(f_name, index_col = \"STATION\")\n",
    "    \n",
    "    # Drop uneccessary columns\n",
    "    keep_list = [\"NAME\", \"LATITUDE\", \"LONGITUDE\", \"DATE\", \"TMAX\", \"TMIN\"]\n",
    "    reduced_df = df[keep_list]\n",
    "    \n",
    "    station_keep_list = get_station_keep_list(reduced_df)\n",
    "    \n",
    "    final_df = reduced_df[ df[\"NAME\"].isin(station_keep_list)]\n",
    "    \n",
    "    \n",
    "    final_df.to_csv(\"../Data/cleaned_weather_2018.csv\")\n",
    "    \n",
    "main(\"../Data/weather_2018.csv\")"
   ]
  },
  {
   "cell_type": "code",
   "execution_count": null,
   "metadata": {},
   "outputs": [],
   "source": []
  }
 ],
 "metadata": {
  "kernelspec": {
   "display_name": "conda_python3",
   "language": "python",
   "name": "conda_python3"
  },
  "language_info": {
   "codemirror_mode": {
    "name": "ipython",
    "version": 3
   },
   "file_extension": ".py",
   "mimetype": "text/x-python",
   "name": "python",
   "nbconvert_exporter": "python",
   "pygments_lexer": "ipython3",
   "version": "3.6.5"
  }
 },
 "nbformat": 4,
 "nbformat_minor": 2
}
